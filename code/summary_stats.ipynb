{
 "cells": [
  {
   "cell_type": "code",
   "execution_count": null,
   "id": "0b73a5a8",
   "metadata": {},
   "outputs": [],
   "source": [
    "# feature_list = [\"CZV\", \"TRF\"] # remove this later\n",
    "# outcome_feature_list = ['house_value'] + feature_list\n",
    "# df = df.loc[:,outcome_feature_list]\n",
    "\n",
    "col_dict = {'CZA': 'Violent Crime', 'CZH': 'Aggravated Assault', 'CZV': 'Homicide', \n",
    "            'MHI': 'Median Household Income', 'TRF': 'Traffic Intensity', 'EDU': '% Enrolled in College'}\n",
    "df = df.rename(columns = col_dict)\n",
    "df = df.drop('GEOID',1)\n",
    "df['YEAR'], _ = pd.factorize(df['YEAR'], sort=True)\n",
    "print(df.head())\n",
    "print(df.describe())\n",
    "print(df.dtypes)"
   ]
  },
  {
   "cell_type": "code",
   "execution_count": null,
   "id": "4461d8b1",
   "metadata": {},
   "outputs": [],
   "source": [
    "print(df.dtypes)"
   ]
  },
  {
   "cell_type": "markdown",
   "id": "8cd75176",
   "metadata": {},
   "source": [
    "The dataframe comprises 2557 observations, where each observation contains the median house value (outcome variable) and 9 feature variables for a given census tract and year. The variables will be split 80:20, so that 80% of the data is in the training dataset and 20% is in the testing dataset.\n",
    "\n",
    "Observations with missing outcome variables were dropped from the dataframe, while missing feature values were replaced with the median value for that feature in that year."
   ]
  },
  {
   "cell_type": "code",
   "execution_count": null,
   "id": "347ef2ad",
   "metadata": {},
   "outputs": [],
   "source": [
    "%matplotlib inline\n",
    "import matplotlib.pyplot as plt\n",
    "\n",
    "df.hist(figsize=(20,20))\n",
    "plt.show()"
   ]
  },
  {
   "cell_type": "markdown",
   "id": "5ff29943",
   "metadata": {},
   "source": [
    "From plotting the distribution of the feature values, we observe that features vary significantly in scale, so we will be normalizing the feature parameters. We can also observe that features such as assault and traffic instensity are significantly skewed with most values being in the lowest value bucket, as such, we have concerns that there may no be enough variation in those features to be valuable for the model. We fortunately do not observe any outliers that would need to be excluded."
   ]
  },
  {
   "cell_type": "code",
   "execution_count": null,
   "id": "3fffa576",
   "metadata": {},
   "outputs": [],
   "source": [
    "corr_matrix = df.corr()\n",
    "corr_matrix[\"house_value\"].sort_values(ascending=False)"
   ]
  },
  {
   "cell_type": "code",
   "execution_count": null,
   "id": "f47b51ca",
   "metadata": {},
   "outputs": [],
   "source": [
    "mask = np.zeros_like(df.iloc[:,2:].corr(), dtype=bool)\n",
    "mask[np.triu_indices_from(mask)] = True\n",
    "sb.heatmap(df.iloc[:,2:].corr()*100, cmap='RdBu_r', annot = True, mask=mask)"
   ]
  },
  {
   "cell_type": "markdown",
   "id": "9b2061f1",
   "metadata": {},
   "source": [
    "Based on the heat map of the correlations of features, we can see that there is a positive correlation between housing price and median household income for an area, as well as the percent of the population enrolled in college. We can also observe a strong negative correlation between household price and unemployment levels and crime levels in the area. There is strong correlation between the crime features, which my make it worth combining them into a single feature."
   ]
  },
  {
   "cell_type": "code",
   "execution_count": null,
   "id": "31ee73ea",
   "metadata": {},
   "outputs": [],
   "source": []
  },
  {
   "cell_type": "code",
   "execution_count": null,
   "id": "f80208ed",
   "metadata": {},
   "outputs": [],
   "source": []
  },
  {
   "cell_type": "code",
   "execution_count": null,
   "id": "a63ba206",
   "metadata": {},
   "outputs": [],
   "source": []
  }
 ],
 "metadata": {
  "kernelspec": {
   "display_name": "Python 3 (ipykernel)",
   "language": "python",
   "name": "python3"
  },
  "language_info": {
   "codemirror_mode": {
    "name": "ipython",
    "version": 3
   },
   "file_extension": ".py",
   "mimetype": "text/x-python",
   "name": "python",
   "nbconvert_exporter": "python",
   "pygments_lexer": "ipython3",
   "version": "3.7.11"
  }
 },
 "nbformat": 4,
 "nbformat_minor": 5
}
